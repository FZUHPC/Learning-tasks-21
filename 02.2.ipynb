{
 "cells": [
  {
   "cell_type": "code",
   "execution_count": null,
   "id": "9e687043",
   "metadata": {},
   "outputs": [],
   "source": [
    "a=[10*x for x in range(1,7)]\n",
    "print(a)\n",
    "b=[x*x for x in range(1,8)]\n",
    "print(b)\n",
    "c=[(-1)**(x-1)*10*x for x in range(1,7)]\n",
    "print(c)\n",
    "for i in a:\n",
    "    if(i%20==0):\n",
    "        a.remove(i)\n",
    "print(a)\n",
    "[(lambda i, j: print(\"{}*{}={}{}\".format(i, j, i * j, \"\\n\" if i == j else \"\\t\"), end=\"\"))(j, i) for i in range(1, 10) for j in range(1, i + 1)]\n"
   ]
  }
 ],
 "metadata": {
  "kernelspec": {
   "display_name": "Python 3 (ipykernel)",
   "language": "python",
   "name": "python3"
  },
  "language_info": {
   "codemirror_mode": {
    "name": "ipython",
    "version": 3
   },
   "file_extension": ".py",
   "mimetype": "text/x-python",
   "name": "python",
   "nbconvert_exporter": "python",
   "pygments_lexer": "ipython3",
   "version": "3.9.12"
  }
 },
 "nbformat": 4,
 "nbformat_minor": 5
}
