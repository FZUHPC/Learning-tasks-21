{
 "cells": [
  {
   "cell_type": "code",
   "execution_count": 1,
   "id": "59340fc1",
   "metadata": {},
   "outputs": [
    {
     "data": {
      "text/plain": "([10, 20, 30, 40, 50, 60],\n [1, 4, 9, 16, 25, 36, 49],\n [10, -20, 30, -40, 50, -60],\n [10, 30, 50],\n [[1, 2, 3, 4, 5, 6, 7, 8, 9],\n  [2, 4, 6, 8, 10, 12, 14, 16, 18],\n  [3, 6, 9, 12, 15, 18, 21, 24, 27],\n  [4, 8, 12, 16, 20, 24, 28, 32, 36],\n  [5, 10, 15, 20, 25, 30, 35, 40, 45],\n  [6, 12, 18, 24, 30, 36, 42, 48, 54],\n  [7, 14, 21, 28, 35, 42, 49, 56, 63],\n  [8, 16, 24, 32, 40, 48, 56, 64, 72],\n  [9, 18, 27, 36, 45, 54, 63, 72, 81]])"
     },
     "execution_count": 1,
     "metadata": {},
     "output_type": "execute_result"
    }
   ],
   "source": [
    "l1 = [i for i in range(10, 70, 10)]\n",
    "l2 = [i ** 2 for i in range(1, 8)]\n",
    "l3 = [i * 10 * (-1) ** (i + 1) for i in range(1, 7)]\n",
    "l4 = [i for i in l1 if int(i / 10) & 1 == 1]\n",
    "l5 = [[i * j for i in range(1, 10)] for j in range(1, 10)]\n",
    "l1, l2, l3, l4, l5"
   ]
  },
  {
   "cell_type": "code",
   "execution_count": 2,
   "id": "e166b831",
   "metadata": {},
   "outputs": [
    {
     "name": "stdout",
     "output_type": "stream",
     "text": [
      "0.5005948543548584 sec\n"
     ]
    }
   ],
   "source": [
    "import time\n",
    "class Timer:\n",
    "    \"\"\" 记 录 多 次 运 行 时 间。 \"\"\"\n",
    "    def __init__(self):\n",
    "        self.times = []\n",
    "        self.createTime = time.time()\n",
    "        self.startTime = 0\n",
    "\n",
    "    \"\"\" 启 动 计 时 器。 \"\"\"\n",
    "    def start(self):\n",
    "        self.startTime = time.time()\n",
    "\n",
    "    \"\"\" 停 止 计 时 器 并 将 时 间 记 录 在 列 表 中 并 返 回 \"\"\"\n",
    "    def stop(self):\n",
    "        interval = time.time() - self.startTime\n",
    "        self.times.append(interval)\n",
    "        return interval\n",
    "\n",
    "    \"\"\" 返 回 平 均 时 间。 \"\"\"\n",
    "    def avg(self):\n",
    "        return self.sum() / len(self.times)\n",
    "\n",
    "    \"\"\" 返 回 时 间 总 和。 \"\"\"\n",
    "    def sum(self):\n",
    "        return sum(self.times)\n",
    "\n",
    "    \"\"\" 返 回 累 计 时 间。 \"\"\"\n",
    "    def cumsum(self):\n",
    "        return time.time() - self.createTime\n",
    "\n",
    "\n",
    "timer = Timer()\n",
    "timer.start()\n",
    "time.sleep(0.5)\n",
    "print(timer.stop(), \"sec\")"
   ]
  },
  {
   "cell_type": "code",
   "execution_count": 3,
   "id": "89d0ccb7",
   "metadata": {},
   "outputs": [
    {
     "name": "stdout",
     "output_type": "stream",
     "text": [
      "[0, 0, 0, 0, 0, 0, 0, 0, 0, 0]\n",
      "[2, 3, 4, 5, 0, 0, 0, 0, 0, 0]\n",
      "2 5\n",
      "[0, 0, 0, 0, 0, 0, 0, 0, 0, 0]\n"
     ]
    }
   ],
   "source": [
    "class Accumulator:\n",
    "    \"\"\"在 `n`个 变 量 上 累 加。 \"\"\"\n",
    "    def __init__(self, n):\n",
    "        self.maxSize = n\n",
    "        self.size = 0\n",
    "        self.container = [0] * self.maxSize\n",
    "\n",
    "    def add(self, *args):\n",
    "        for i in args:\n",
    "            if self.size >= self.maxSize:\n",
    "                raise IndexError(\"list index out of range\")\n",
    "            self.container[self.size] = i\n",
    "            self.size += 1\n",
    "\n",
    "    def reset(self):\n",
    "        self.container[:self.size] = [0] * self.size\n",
    "\n",
    "    def __getitem__(self, idx):\n",
    "        if idx >= self.maxSize:\n",
    "            raise IndexError(\"list index out of range\")\n",
    "        else:\n",
    "            return self.container[idx]\n",
    "accu = Accumulator(10)\n",
    "print(accu.container)\n",
    "accu.add(2, 3, 4, 5)\n",
    "print(accu.container)\n",
    "print(accu[0], accu[3])\n",
    "accu.reset()\n",
    "print(accu.container)"
   ]
  },
  {
   "cell_type": "code",
   "execution_count": null,
   "id": "41f87b7a",
   "metadata": {
    "pycharm": {
     "is_executing": true
    }
   },
   "outputs": [
    {
     "name": "stdout",
     "output_type": "stream",
     "text": [
      "0\n",
      "1\n",
      "1\n",
      "2\n",
      "3\n",
      "5\n",
      "8\n",
      "13\n",
      "21\n",
      "34\n",
      "55\n",
      "89\n",
      "144\n",
      "233\n",
      "377\n",
      "610\n"
     ]
    }
   ],
   "source": [
    "def fib():\n",
    "    a, b = 0, 1\n",
    "    while True:\n",
    "        yield a\n",
    "        a, b = b, a + b\n",
    "\n",
    "\n",
    "f = fib()\n",
    "while True:\n",
    "    print(next(f))\n",
    "    time.sleep(2)"
   ]
  },
  {
   "cell_type": "code",
   "execution_count": null,
   "id": "be811358",
   "metadata": {
    "pycharm": {
     "is_executing": true
    }
   },
   "outputs": [],
   "source": []
  }
 ],
 "metadata": {
  "kernelspec": {
   "display_name": "Python 3 (ipykernel)",
   "language": "python",
   "name": "python3"
  },
  "language_info": {
   "codemirror_mode": {
    "name": "ipython",
    "version": 3
   },
   "file_extension": ".py",
   "mimetype": "text/x-python",
   "name": "python",
   "nbconvert_exporter": "python",
   "pygments_lexer": "ipython3",
   "version": "3.9.12"
  }
 },
 "nbformat": 4,
 "nbformat_minor": 5
}
