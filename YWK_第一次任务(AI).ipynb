{
 "cells": [
  {
   "cell_type": "code",
   "execution_count": null,
   "id": "63615831",
   "metadata": {
    "scrolled": true
   },
   "outputs": [],
   "source": [
    "def myfunc(x) :\n",
    "    if (x > 1) :\n",
    "        return 3*x-5\n",
    "    elif (x >= -1) :\n",
    "        return x+2\n",
    "    else :\n",
    "        return 5*x+3\n",
    "\n",
    "x=int(input())\n",
    "print(myfunc(x))\n",
    "    "
   ]
  },
  {
   "cell_type": "code",
   "execution_count": null,
   "id": "0b9c957c",
   "metadata": {},
   "outputs": [],
   "source": [
    "def printLeapYear() :\n",
    "    for i in range(100,2022) :\n",
    "        if(i%4==0) :\n",
    "            if(i%100==0) :\n",
    "                if(i%400==0) :\n",
    "                    print(i)\n",
    "                continue\n",
    "            print(i)\n",
    "\n",
    "printLeapYear()"
   ]
  },
  {
   "cell_type": "code",
   "execution_count": null,
   "id": "524a8273",
   "metadata": {},
   "outputs": [],
   "source": [
    "str=\"hello world hello worldhellohello worldhello worldhello worldhello worldhello worldhello worldhello worldhello worldhello hellohelloworld worldworldhelloworldworld\"\n",
    "str=str.split( )\n",
    "print(len(str[-2]))\n",
    "print(str[-1].count('ld'))"
   ]
  },
  {
   "cell_type": "code",
   "execution_count": null,
   "id": "e804f122",
   "metadata": {
    "scrolled": true
   },
   "outputs": [],
   "source": [
    "friends={ \n",
    "    'jiaLiang':23,\n",
    "    'wangChen':24, \n",
    "    'jiaMing':22, \n",
    "    'wangJie':22, \n",
    "    'yuQing':24,\n",
    "    'wenZhen':23,\n",
    "    'haoNan':25,\n",
    "    'luYi':23,\n",
    "    'boWen':23 \n",
    "}\n",
    "\n",
    "for key,value in friends.items() :\n",
    "   print(key,':',value)\n",
    "\n",
    "for key in friends :\n",
    "   print(key)\n",
    "\n",
    "for key in sorted(friends.keys()):\n",
    "    print(key)\n",
    "    \n",
    "for value in set(friends.values()):\n",
    "    print(value)\n",
    "    \n",
    "friends.update({'xiaoming': 18})\n",
    "\n",
    "keyss=list(friends.keys())\n",
    "valuess=list(friends.values())\n",
    "\n",
    "i=0\n",
    "for value in valuess:\n",
    "    if value >= 23 :\n",
    "        friends.pop(keyss[i])\n",
    "    i+=1\n",
    "    \n",
    "friends"
   ]
  },
  {
   "cell_type": "code",
   "execution_count": null,
   "id": "dbaecae6",
   "metadata": {},
   "outputs": [],
   "source": []
  },
  {
   "cell_type": "code",
   "execution_count": null,
   "id": "ed07366b",
   "metadata": {},
   "outputs": [],
   "source": []
  }
 ],
 "metadata": {
  "kernelspec": {
   "display_name": "Python 3.10.4 64-bit",
   "language": "python",
   "name": "python3"
  },
  "language_info": {
   "codemirror_mode": {
    "name": "ipython",
    "version": 3
   },
   "file_extension": ".py",
   "mimetype": "text/x-python",
   "name": "python",
   "nbconvert_exporter": "python",
   "pygments_lexer": "ipython3",
   "version": "3.10.4"
  },
  "vscode": {
   "interpreter": {
    "hash": "bc068fc9dbd715f9dd498397cd9ee7063ff66b6513eab0d3db9103ff1d66d4c1"
   }
  }
 },
 "nbformat": 4,
 "nbformat_minor": 5
}
